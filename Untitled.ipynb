{
 "cells": [
  {
   "cell_type": "code",
   "execution_count": 8,
   "metadata": {
    "pycharm": {
     "is_executing": false
    }
   },
   "outputs": [],
   "source": [
    "import pandas as pd"
   ]
  },
  {
   "cell_type": "code",
   "execution_count": 14,
   "metadata": {
    "pycharm": {
     "is_executing": false,
     "name": "#%%\n"
    }
   },
   "outputs": [
    {
     "data": {
      "text/plain": "            brand                                       product_name  price\n0            EVGA  EVGA GeForce RTX 2070 SUPER BLACK GAMING| 08G-...   £408\n1        GIGABYTE  GIGABYTE Radeon RX 570 DirectX 12 GV-RX570GAMI...    £94\n2             MSI  MSI GeForce RTX 2070 SUPER DirectX 12 RTX 2070...   £415\n3        GIGABYTE  GIGABYTE GeForce RTX 2070 Super WINDFORCE OC 3...   £398\n4        GIGABYTE  GIGABYTE GeForce RTX 2070 WINDFORCE 8G (Rev 3....   £314\n5   Sapphire Tech  SAPPHIRE NITRO+ Radeon RX 5700 XT 100416NT+8GS...   £343\n6            EVGA  EVGA GeForce RTX 2080 Ti DirectX 12 11G-P4-228...   £864\n7           ZOTAC  ZOTAC GeForce GTX 1060 DirectX 12 ZT-P10620A-1...   £176\n8             MSI  MSI GeForce RTX 2070 DirectX 12 RTX 2070 TRI F...   £319\n9             MSI  MSI GeForce GTX 1660 Ti DirectX 12 GTX 1660 TI...   £221\n10           EVGA  EVGA GeForce RTX 2070 SUPER XC GAMING| 08G-P4-...   £417\n11  Sapphire Tech  Sapphire PULSE Radeon RX 580 8GB GDDR5 PCI-E D...   £141\n12           ASUS  ASUS ROG Strix GeForce RTX 2080 Ti DirectX 12 ...   £988\n13            MSI  MSI GeForce RTX 2060 DirectX 12 RTX 2060 VENTU...   £261\n14       GIGABYTE  GIGABYTE GeForce RTX 2070 Super GAMING OC 3X 8...   £424\n15           EVGA  EVGA GeForce RTX 2070 SUPER XC ULTRA GAMING| 0...   £424\n16           ASUS  ASUS ROG Strix Radeon RX 570 O4G Gaming OC Edi...   £112\n17       GIGABYTE  GIGABYTE Radeon RX 5700 XT GAMING OC 8G Graphi...   £327\n18           EVGA  EVGA GeForce GTX 1660 SUPER BLACK GAMING Video...   £177\n19           EVGA  EVGA GeForce RTX 2060 SUPER SC ULTRA GAMING| 0...   £322\n20  Sapphire Tech  SAPPHIRE PULSE Radeon RX 5700 XT 100416P8GL 8G...   £321\n21            MSI  MSI Radeon RX 580 DirectX 12 RX 580 ARMOR 8G O...   £150\n22           EVGA  EVGA GeForce GTX 1660 BLACK GAMING Video Card|...   £177\n23           EVGA  EVGA GeForce RTX 2080 Ti FTW3 ULTRA GAMING| 11...     £1\n24            MSI  MSI GeForce RTX 2060 DirectX 12 RTX 2060 GAMIN...   £302\n25           ASUS  ASUS ROG STRIX GeForce RTX 2060 SUPER DirectX ...   £353\n26         ASRock  ASRock Phantom Gaming X Radeon RX 580 DirectX ...   £125\n27       GIGABYTE  GIGABYTE AORUS GeForce RTX 2070 Super 8G Graph...   £463\n28           ASUS  ASUS ROG STRIX GeForce RTX 2060 DirectX 12 ROG...   £311\n29       GIGABYTE  GIGABYTE GeForce GTX 1660 Ti OC 6G Graphics Ca...   £218\n30         ASRock  ASRock Radeon RX 5700 XT DirectX 12 RX 5700 XT...   £273\n31            XFX  XFX RS XXX Edition Radeon RX 570 DirectX 12 RX...   £109\n32           ASUS  ASUS ROG STRIX GeForce RTX 2080 SUPER Advanced...   £620\n33           ASUS  ASUS ROG Strix GeForce RTX 2080 Ti DirectX 12 ...   £989\n34           EVGA  EVGA GeForce RTX 2070 SUPER FTW3 ULTRA GAMING|...   £470\n35     PowerColor  PowerColor RED DEVIL Radeon RX 5700 XT DirectX...   £350",
      "text/html": "<div>\n<style scoped>\n    .dataframe tbody tr th:only-of-type {\n        vertical-align: middle;\n    }\n\n    .dataframe tbody tr th {\n        vertical-align: top;\n    }\n\n    .dataframe thead th {\n        text-align: right;\n    }\n</style>\n<table border=\"1\" class=\"dataframe\">\n  <thead>\n    <tr style=\"text-align: right;\">\n      <th></th>\n      <th>brand</th>\n      <th>product_name</th>\n      <th>price</th>\n    </tr>\n  </thead>\n  <tbody>\n    <tr>\n      <th>0</th>\n      <td>EVGA</td>\n      <td>EVGA GeForce RTX 2070 SUPER BLACK GAMING| 08G-...</td>\n      <td>£408</td>\n    </tr>\n    <tr>\n      <th>1</th>\n      <td>GIGABYTE</td>\n      <td>GIGABYTE Radeon RX 570 DirectX 12 GV-RX570GAMI...</td>\n      <td>£94</td>\n    </tr>\n    <tr>\n      <th>2</th>\n      <td>MSI</td>\n      <td>MSI GeForce RTX 2070 SUPER DirectX 12 RTX 2070...</td>\n      <td>£415</td>\n    </tr>\n    <tr>\n      <th>3</th>\n      <td>GIGABYTE</td>\n      <td>GIGABYTE GeForce RTX 2070 Super WINDFORCE OC 3...</td>\n      <td>£398</td>\n    </tr>\n    <tr>\n      <th>4</th>\n      <td>GIGABYTE</td>\n      <td>GIGABYTE GeForce RTX 2070 WINDFORCE 8G (Rev 3....</td>\n      <td>£314</td>\n    </tr>\n    <tr>\n      <th>5</th>\n      <td>Sapphire Tech</td>\n      <td>SAPPHIRE NITRO+ Radeon RX 5700 XT 100416NT+8GS...</td>\n      <td>£343</td>\n    </tr>\n    <tr>\n      <th>6</th>\n      <td>EVGA</td>\n      <td>EVGA GeForce RTX 2080 Ti DirectX 12 11G-P4-228...</td>\n      <td>£864</td>\n    </tr>\n    <tr>\n      <th>7</th>\n      <td>ZOTAC</td>\n      <td>ZOTAC GeForce GTX 1060 DirectX 12 ZT-P10620A-1...</td>\n      <td>£176</td>\n    </tr>\n    <tr>\n      <th>8</th>\n      <td>MSI</td>\n      <td>MSI GeForce RTX 2070 DirectX 12 RTX 2070 TRI F...</td>\n      <td>£319</td>\n    </tr>\n    <tr>\n      <th>9</th>\n      <td>MSI</td>\n      <td>MSI GeForce GTX 1660 Ti DirectX 12 GTX 1660 TI...</td>\n      <td>£221</td>\n    </tr>\n    <tr>\n      <th>10</th>\n      <td>EVGA</td>\n      <td>EVGA GeForce RTX 2070 SUPER XC GAMING| 08G-P4-...</td>\n      <td>£417</td>\n    </tr>\n    <tr>\n      <th>11</th>\n      <td>Sapphire Tech</td>\n      <td>Sapphire PULSE Radeon RX 580 8GB GDDR5 PCI-E D...</td>\n      <td>£141</td>\n    </tr>\n    <tr>\n      <th>12</th>\n      <td>ASUS</td>\n      <td>ASUS ROG Strix GeForce RTX 2080 Ti DirectX 12 ...</td>\n      <td>£988</td>\n    </tr>\n    <tr>\n      <th>13</th>\n      <td>MSI</td>\n      <td>MSI GeForce RTX 2060 DirectX 12 RTX 2060 VENTU...</td>\n      <td>£261</td>\n    </tr>\n    <tr>\n      <th>14</th>\n      <td>GIGABYTE</td>\n      <td>GIGABYTE GeForce RTX 2070 Super GAMING OC 3X 8...</td>\n      <td>£424</td>\n    </tr>\n    <tr>\n      <th>15</th>\n      <td>EVGA</td>\n      <td>EVGA GeForce RTX 2070 SUPER XC ULTRA GAMING| 0...</td>\n      <td>£424</td>\n    </tr>\n    <tr>\n      <th>16</th>\n      <td>ASUS</td>\n      <td>ASUS ROG Strix Radeon RX 570 O4G Gaming OC Edi...</td>\n      <td>£112</td>\n    </tr>\n    <tr>\n      <th>17</th>\n      <td>GIGABYTE</td>\n      <td>GIGABYTE Radeon RX 5700 XT GAMING OC 8G Graphi...</td>\n      <td>£327</td>\n    </tr>\n    <tr>\n      <th>18</th>\n      <td>EVGA</td>\n      <td>EVGA GeForce GTX 1660 SUPER BLACK GAMING Video...</td>\n      <td>£177</td>\n    </tr>\n    <tr>\n      <th>19</th>\n      <td>EVGA</td>\n      <td>EVGA GeForce RTX 2060 SUPER SC ULTRA GAMING| 0...</td>\n      <td>£322</td>\n    </tr>\n    <tr>\n      <th>20</th>\n      <td>Sapphire Tech</td>\n      <td>SAPPHIRE PULSE Radeon RX 5700 XT 100416P8GL 8G...</td>\n      <td>£321</td>\n    </tr>\n    <tr>\n      <th>21</th>\n      <td>MSI</td>\n      <td>MSI Radeon RX 580 DirectX 12 RX 580 ARMOR 8G O...</td>\n      <td>£150</td>\n    </tr>\n    <tr>\n      <th>22</th>\n      <td>EVGA</td>\n      <td>EVGA GeForce GTX 1660 BLACK GAMING Video Card|...</td>\n      <td>£177</td>\n    </tr>\n    <tr>\n      <th>23</th>\n      <td>EVGA</td>\n      <td>EVGA GeForce RTX 2080 Ti FTW3 ULTRA GAMING| 11...</td>\n      <td>£1</td>\n    </tr>\n    <tr>\n      <th>24</th>\n      <td>MSI</td>\n      <td>MSI GeForce RTX 2060 DirectX 12 RTX 2060 GAMIN...</td>\n      <td>£302</td>\n    </tr>\n    <tr>\n      <th>25</th>\n      <td>ASUS</td>\n      <td>ASUS ROG STRIX GeForce RTX 2060 SUPER DirectX ...</td>\n      <td>£353</td>\n    </tr>\n    <tr>\n      <th>26</th>\n      <td>ASRock</td>\n      <td>ASRock Phantom Gaming X Radeon RX 580 DirectX ...</td>\n      <td>£125</td>\n    </tr>\n    <tr>\n      <th>27</th>\n      <td>GIGABYTE</td>\n      <td>GIGABYTE AORUS GeForce RTX 2070 Super 8G Graph...</td>\n      <td>£463</td>\n    </tr>\n    <tr>\n      <th>28</th>\n      <td>ASUS</td>\n      <td>ASUS ROG STRIX GeForce RTX 2060 DirectX 12 ROG...</td>\n      <td>£311</td>\n    </tr>\n    <tr>\n      <th>29</th>\n      <td>GIGABYTE</td>\n      <td>GIGABYTE GeForce GTX 1660 Ti OC 6G Graphics Ca...</td>\n      <td>£218</td>\n    </tr>\n    <tr>\n      <th>30</th>\n      <td>ASRock</td>\n      <td>ASRock Radeon RX 5700 XT DirectX 12 RX 5700 XT...</td>\n      <td>£273</td>\n    </tr>\n    <tr>\n      <th>31</th>\n      <td>XFX</td>\n      <td>XFX RS XXX Edition Radeon RX 570 DirectX 12 RX...</td>\n      <td>£109</td>\n    </tr>\n    <tr>\n      <th>32</th>\n      <td>ASUS</td>\n      <td>ASUS ROG STRIX GeForce RTX 2080 SUPER Advanced...</td>\n      <td>£620</td>\n    </tr>\n    <tr>\n      <th>33</th>\n      <td>ASUS</td>\n      <td>ASUS ROG Strix GeForce RTX 2080 Ti DirectX 12 ...</td>\n      <td>£989</td>\n    </tr>\n    <tr>\n      <th>34</th>\n      <td>EVGA</td>\n      <td>EVGA GeForce RTX 2070 SUPER FTW3 ULTRA GAMING|...</td>\n      <td>£470</td>\n    </tr>\n    <tr>\n      <th>35</th>\n      <td>PowerColor</td>\n      <td>PowerColor RED DEVIL Radeon RX 5700 XT DirectX...</td>\n      <td>£350</td>\n    </tr>\n  </tbody>\n</table>\n</div>"
     },
     "metadata": {},
     "output_type": "execute_result",
     "execution_count": 14
    }
   ],
   "source": [
    "df = pd.read_csv(\"products.csv\")\n",
    "df"
   ]
  }
 ],
 "metadata": {
  "kernelspec": {
   "display_name": "Python 3",
   "language": "python",
   "name": "python3"
  },
  "language_info": {
   "codemirror_mode": {
    "name": "ipython",
    "version": 3
   },
   "file_extension": ".py",
   "mimetype": "text/x-python",
   "name": "python",
   "nbconvert_exporter": "python",
   "pygments_lexer": "ipython3",
   "version": "3.8.1"
  },
  "pycharm": {
   "stem_cell": {
    "cell_type": "raw",
    "source": [],
    "metadata": {
     "collapsed": false
    }
   }
  }
 },
 "nbformat": 4,
 "nbformat_minor": 4
}